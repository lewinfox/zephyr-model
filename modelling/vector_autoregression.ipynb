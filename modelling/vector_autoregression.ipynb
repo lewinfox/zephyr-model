{
 "cells": [
  {
   "cell_type": "markdown",
   "metadata": {},
   "source": [
    "# Vector AutoRegression model\n",
    "\n",
    "Attempting to predict wind speed, direction and temp"
   ]
  },
  {
   "cell_type": "code",
   "execution_count": null,
   "metadata": {},
   "outputs": [],
   "source": [
    "import pandas as pd\n",
    "import sqlite3"
   ]
  },
  {
   "cell_type": "code",
   "execution_count": null,
   "metadata": {},
   "outputs": [],
   "source": [
    "ZEPHYR_DB_PATH = \"../zephyr-model.db\"\n",
    "TARGET_STATION = \"Coronet Summit\"\n",
    "PREDICTOR_STATION_MAX_DISTANCE_KM = 20 # Use stations within this radius to predict"
   ]
  },
  {
   "cell_type": "code",
   "execution_count": null,
   "metadata": {},
   "outputs": [],
   "source": [
    "def get_query(sql: str, params: list = []) -> pd.DataFrame:\n",
    "    \"\"\"\n",
    "    Execute `sql` with `params` and return the results as a data frame\n",
    "    \"\"\"\n",
    "    conn = sqlite3.connect(ZEPHYR_DB_PATH)\n",
    "    cursor = conn.cursor().execute(sql, params)\n",
    "    res = cursor.fetchall()\n",
    "    colnames = [x[0] for x in cursor.description]\n",
    "    datatypes  = [x[1] for x in cursor.description]\n",
    "    data = [dict(zip(colnames, row)) for row in res]\n",
    "    schema = {col: dt for col, dt in zip(colnames, datatypes)} # Not working for some reason\n",
    "    df = pd.DataFrame(data)\n",
    "    return df\n"
   ]
  },
  {
   "cell_type": "markdown",
   "metadata": {},
   "source": [
    "Which stations do we want to use to predict?"
   ]
  },
  {
   "cell_type": "code",
   "execution_count": null,
   "metadata": {},
   "outputs": [],
   "source": [
    "predictor_station_sql = f\"\"\"\n",
    "select\n",
    "    to_station.name,\n",
    "    to_station.id,\n",
    "    dist.km_between as station_distance\n",
    "from\n",
    "    station_distances as dist\n",
    "    join stations as from_station on from_station.id = dist.id_from\n",
    "    join stations as to_station on to_station.id = dist.id_to\n",
    "where\n",
    "    from_station.name = '{TARGET_STATION}'\n",
    "    and dist.km_between <= {PREDICTOR_STATION_MAX_DISTANCE_KM}\n",
    "    order by dist.km_between\n",
    "\"\"\"\n",
    "predictor_stations = get_query(predictor_station_sql)"
   ]
  },
  {
   "cell_type": "markdown",
   "metadata": {},
   "source": [
    "Get observations from our predictor stations."
   ]
  },
  {
   "cell_type": "code",
   "execution_count": null,
   "metadata": {},
   "outputs": [],
   "source": [
    "predictor_sql = f\"\"\"\n",
    "select id, name, timestamp, temperature, wind_average, wind_gust, wind_bearing\n",
    "from observations\n",
    "where id in ({','.join(\"?\" * len(predictor_stations[\"id\"]))})\n",
    "\"\"\"\n",
    "\n",
    "predictor_data = get_query(predictor_sql, predictor_stations[\"id\"])"
   ]
  },
  {
   "cell_type": "markdown",
   "metadata": {},
   "source": [
    "Get our ground truth data for the station of interest."
   ]
  },
  {
   "cell_type": "code",
   "execution_count": null,
   "metadata": {},
   "outputs": [],
   "source": [
    "target_sql = f\"\"\"\n",
    "select id, name, timestamp, temperature, wind_average, wind_gust, wind_bearing\n",
    "from observations\n",
    "where name = '{TARGET_STATION}'\n",
    "\"\"\"\n",
    "\n",
    "target_data = get_query(target_sql)"
   ]
  }
 ],
 "metadata": {
  "kernelspec": {
   "display_name": "zephyr-model",
   "language": "python",
   "name": "python3"
  },
  "language_info": {
   "codemirror_mode": {
    "name": "ipython",
    "version": 3
   },
   "file_extension": ".py",
   "mimetype": "text/x-python",
   "name": "python",
   "nbconvert_exporter": "python",
   "pygments_lexer": "ipython3",
   "version": "3.12.9"
  }
 },
 "nbformat": 4,
 "nbformat_minor": 2
}
